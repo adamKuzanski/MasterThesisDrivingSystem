{
 "metadata": {
  "language_info": {
   "codemirror_mode": {
    "name": "ipython",
    "version": 3
   },
   "file_extension": ".py",
   "mimetype": "text/x-python",
   "name": "python",
   "nbconvert_exporter": "python",
   "pygments_lexer": "ipython3",
   "version": "3.8.8-final"
  },
  "orig_nbformat": 2,
  "kernelspec": {
   "name": "python388jvsc74a57bd0aa6168a2044d1e42d3ce0e7d1513718d2c8bef52f363d71318a0dddb4f23d9bf",
   "display_name": "Python 3.8.8 64-bit ('computer_vision': conda)"
  }
 },
 "nbformat": 4,
 "nbformat_minor": 2,
 "cells": [
  {
   "cell_type": "code",
   "execution_count": 19,
   "metadata": {},
   "outputs": [],
   "source": [
    "import numpy as np \n",
    "import cv2\n",
    "import matplotlib.pyplot as plt\n",
    "import matplotlib.image as mpimg\n",
    "%matplotlib qt "
   ]
  },
  {
   "cell_type": "code",
   "execution_count": 20,
   "metadata": {},
   "outputs": [
    {
     "output_type": "execute_result",
     "data": {
      "text/plain": [
       "<matplotlib.image.AxesImage at 0x22af6607370>"
      ]
     },
     "metadata": {},
     "execution_count": 20
    }
   ],
   "source": [
    "img = mpimg.imread(\"images/perspective_transform/StopSign_perspective.PNG\")\n",
    "plt.imshow(img)"
   ]
  },
  {
   "cell_type": "code",
   "execution_count": 32,
   "metadata": {},
   "outputs": [],
   "source": [
    "%matplotlib qt\n",
    "\n",
    "top_left = [420, 164]\n",
    "top_right = [665, 250]\n",
    "bottom_right = [685, 353]\n",
    "bottom_left = [415, 276]\n",
    "\n",
    "plt.imshow(img)\n",
    "plt.plot(top_left[0], top_left[1], '.', markersize=20)\n",
    "plt.plot(top_right[0], top_right[1], '.', markersize=20)\n",
    "plt.plot(bottom_right[0], bottom_right[1], '.', markersize=20)\n",
    "plt.plot(bottom_left[0], bottom_left[1], '.', markersize=20)\n",
    "plt.show()"
   ]
  },
  {
   "cell_type": "code",
   "execution_count": null,
   "metadata": {},
   "outputs": [],
   "source": []
  }
 ]
}